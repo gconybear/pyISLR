{
 "cells": [
  {
   "cell_type": "markdown",
   "metadata": {},
   "source": [
    "## chapter 2 – statistical learning\n",
    "\n",
    "----- \n",
    "\n",
    "basic paradigm: \n",
    "\n",
    "- predictor variables: $X$ --> $X_1, X_2, \\dots, X_p$ \n",
    "\n",
    "- response variable(s): $Y$ \n",
    "\n",
    "\n",
    "assume there is some relationship between them \n",
    "\n",
    "$$Y = f(X) + \\epsilon$$\n",
    "\n",
    "\n",
    "where $\\epsilon$ is a random error term independent of $X$ with $\\mu = 0$\n",
    "\n",
    "**statistical learning estimates $f$ !!**\n",
    "\n",
    "\n",
    "<u> why estimate $f$ ? </u>\n",
    "\n",
    "- prediction \n",
    "    - $\\hat{Y} = \\hat{f}(X)$ : creating estimates for $f$ and $Y$ \n",
    "        - $\\hat{f}$ is a black box as it does not care so much about the true $f$, only for predicting $\\hat{Y} \\approx Y$ \n",
    "        \n",
    "        - *reducible* and *irreducible* errors \n",
    "            - in general, reducible is associated with deviations from target hypothesis *f* and irreducible associated with error from $\\epsilon$  \n",
    "            - $$E(Y - \\hat{Y})^2 = E[f(X) + \\epsilon - \\hat{f}(X)]^2$$\n",
    "                - reducible: $[f(X) - \\hat{f}(X)]^2$ \n",
    "                - irreducible: $\\text{Var}(\\epsilon)$\n",
    "            \n",
    "- inference \n",
    "    - understand how $Y$ changes as a function of $X$ \n",
    "    - obviously $\\hat{f}$ **can't** be a black box\n",
    "    - coming up w answers to the following\n",
    "        - which predictors associated with the response? \n",
    "        - what is relationship  between the response and each predictor? \n",
    "        - can the relationship between $Y$ and each predictor be adequately summarized using a linear equation, or is the relationship more complicated"
   ]
  },
  {
   "cell_type": "code",
   "execution_count": 1,
   "metadata": {},
   "outputs": [],
   "source": [
    "import numpy as np\n",
    "import pandas as np\n",
    "import random"
   ]
  },
  {
   "cell_type": "code",
   "execution_count": null,
   "metadata": {},
   "outputs": [],
   "source": []
  },
  {
   "cell_type": "code",
   "execution_count": null,
   "metadata": {},
   "outputs": [],
   "source": []
  },
  {
   "cell_type": "code",
   "execution_count": null,
   "metadata": {},
   "outputs": [],
   "source": []
  }
 ],
 "metadata": {
  "kernelspec": {
   "display_name": "Python 3",
   "language": "python",
   "name": "python3"
  },
  "language_info": {
   "codemirror_mode": {
    "name": "ipython",
    "version": 3
   },
   "file_extension": ".py",
   "mimetype": "text/x-python",
   "name": "python",
   "nbconvert_exporter": "python",
   "pygments_lexer": "ipython3",
   "version": "3.8.5"
  }
 },
 "nbformat": 4,
 "nbformat_minor": 4
}
