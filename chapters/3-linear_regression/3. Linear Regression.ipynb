{
 "cells": [
  {
   "cell_type": "markdown",
   "metadata": {},
   "source": [
    "### Linear Regression  \n",
    "\n",
    "----- \n",
    "\n",
    "Consider adversitising data from ch. 2, and the overall goal of suggesting a marketing plan that will result in high product sales \n",
    "\n",
    "some questions we could ask ourselves \n",
    "\n",
    "- any relationships between budget and sales \n",
    "    - is there even a basis for advertising spend? \n",
    "    - look at simple correlations \n",
    "- strength of relationship between budget and sales \n",
    "    - given a relationship, how better of a predictor of sales is budget than random guess? \n",
    "    - maybe use a simple regression analysis \n",
    "- media contributions to sales \n",
    "    - TV, radio, newspaper effects on sales \n",
    "- effect of each media medium on sales \n",
    "    - give a quantitative answer – for every 1 dollar spent on TV ads, how much do sales go up \n",
    "- can we accurately predict future sales? \n",
    "    - on average, what is the prediction accuracy w the given features\n",
    "- synergy / relationships / interaction effects amongst the features? \n",
    "    - is there a best combination of features?  \n",
    "    \n",
    "    \n",
    "linear regression can answer all of these!! \n",
    "\n",
    "\n",
    "-----\n",
    "\n",
    "\n",
    "*simple linear regression* - predict $Y$ based on a single predictor $X$  \n",
    "\n",
    "$$ Y \\approx \\beta_0 + \\beta_1 X$$ \n",
    "\n",
    "\n",
    "in practice, the true $\\beta_0$ and $\\beta_1$ are unknown... however we can use data points to estimate \n",
    "\n",
    "different criteria can be used, but one common one is to minmize the *least squares criterion* \n",
    "\n",
    "consider $\\hat{y}_i$ to be the prediction for the $i$th value in $X$\n",
    "\n",
    "therefore, $e_i = y_i - \\hat{y}_i$ is the error, or residual, for the $i$th observation is the difference in predicted and actual values \n",
    "\n",
    "the residual sum of squares (RSS) is \n",
    "\n",
    "$$ RSS = e_1^2 + e_2^2 + \\dots + e_n^2$$ \n",
    "\n",
    "and, if we rearrange the prediction for a single observation, this is equivalent to \n",
    "\n",
    "$$ RSS = (y_1 - \\hat{\\beta_0} - \\hat{\\beta_1}x_1)^2 + (y_2 - \\hat{\\beta_0} - \\hat{\\beta_1}x_2)^2 + \\dots + (y_n - \\hat{\\beta_0} - \\hat{\\beta_1}x_n)^2$$ \n",
    "\n",
    "if this RSS formula is minimized through $\\hat{\\beta_0}$ and $\\hat{\\beta_1}$, we get the following values: \n",
    "\n",
    "\n",
    "$$ \\hat{\\beta}_1 = \\frac{\\sum_{i=1}^n (x_i - \\bar{x})(y_i - \\bar{y})}{\\sum_{i=1}^n (x_i - \\bar{x})^2}$$ \n",
    "\n",
    "$$ \\hat{\\beta}_0 = \\bar{y} - \\hat{\\beta}_1 \\bar{x}$$ \n",
    "\n",
    "where $\\bar{x}$ and $\\bar{y}$ are the sample means \n",
    "\n",
    "let's write a function for this to implement from scratch "
   ]
  },
  {
   "cell_type": "code",
   "execution_count": 71,
   "metadata": {},
   "outputs": [],
   "source": [
    "import numpy as np \n",
    "import pandas as pd  \n",
    "\n",
    "def calculate_least_square_coeff(X, y): \n",
    "    # assume X and y are 1-D vectors \n",
    "    \n",
    "    # --- beta 1 ---- \n",
    "    \n",
    "    # get numerator \n",
    "    x_bar = np.repeat(X.mean(), len(X)) \n",
    "    x_diff = X - x_bar\n",
    "    \n",
    "    y_bar = np.repeat(y.mean(), len(y)) \n",
    "    y_diff = y - y_bar \n",
    "    \n",
    "    xy = x_diff * y_diff \n",
    "    numerator = xy.sum() \n",
    "    \n",
    "    # get denomenator \n",
    "    denom = (x_diff**2).sum()\n",
    "    \n",
    "    BETA_1 = numerator / denom  \n",
    "    \n",
    "    # --- beta 0 ---- \n",
    "    \n",
    "    BETA_0 = y.mean() - (BETA_1 * X.mean())\n",
    "    \n",
    "    return BETA_1, BETA_0"
   ]
  },
  {
   "cell_type": "markdown",
   "metadata": {},
   "source": [
    "the above function implements the following equations: \n",
    "\n",
    "$$ \\hat{\\beta}_1 = \\frac{\\sum_{i=1}^n (x_i - \\bar{x})(y_i - \\bar{y})}{\\sum_{i=1}^n (x_i - \\bar{x})^2}$$ \n",
    "\n",
    "$$ \\hat{\\beta}_0 = \\bar{y} - \\hat{\\beta}_1 \\bar{x}$$ \n",
    "\n",
    "in a vectorized fashion\n",
    "\n",
    "\n",
    "underneath, i simulate the data and compare the runtime to the numpy linalg calculation "
   ]
  },
  {
   "cell_type": "code",
   "execution_count": 64,
   "metadata": {},
   "outputs": [],
   "source": [
    "yy = np.random.random_sample(100)  \n",
    "xx = 3*yy + np.random.normal(0, 0.25) "
   ]
  },
  {
   "cell_type": "code",
   "execution_count": 65,
   "metadata": {},
   "outputs": [
    {
     "data": {
      "text/plain": [
       "(0.3333333333333334, -0.08966134038837265)"
      ]
     },
     "execution_count": 65,
     "metadata": {},
     "output_type": "execute_result"
    }
   ],
   "source": [
    "calculate_least_square_coeff(xx, yy)"
   ]
  },
  {
   "cell_type": "code",
   "execution_count": 66,
   "metadata": {},
   "outputs": [],
   "source": [
    "A = np.vstack([xx, np.ones(len(xx))]).T\n",
    "m, c = np.linalg.lstsq(A, yy, rcond=None)[0]"
   ]
  },
  {
   "cell_type": "code",
   "execution_count": 67,
   "metadata": {},
   "outputs": [
    {
     "data": {
      "text/plain": [
       "(0.33333333333333337, -0.08966134038837242)"
      ]
     },
     "execution_count": 67,
     "metadata": {},
     "output_type": "execute_result"
    }
   ],
   "source": [
    "m, c"
   ]
  },
  {
   "cell_type": "code",
   "execution_count": 68,
   "metadata": {},
   "outputs": [
    {
     "name": "stdout",
     "output_type": "stream",
     "text": [
      "31.3 µs ± 1.16 µs per loop (mean ± std. dev. of 7 runs, 10000 loops each)\n"
     ]
    }
   ],
   "source": [
    "%timeit calculate_least_square_coeff(xx, yy)"
   ]
  },
  {
   "cell_type": "code",
   "execution_count": 69,
   "metadata": {},
   "outputs": [
    {
     "name": "stdout",
     "output_type": "stream",
     "text": [
      "37 µs ± 804 ns per loop (mean ± std. dev. of 7 runs, 10000 loops each)\n"
     ]
    }
   ],
   "source": [
    "%timeit np.linalg.lstsq(A, yy, rcond=None)[0]"
   ]
  },
  {
   "cell_type": "markdown",
   "metadata": {},
   "source": [
    "wow!!! my vectorized implementation was actually slightly faster (why? i should look into this) "
   ]
  },
  {
   "cell_type": "code",
   "execution_count": null,
   "metadata": {},
   "outputs": [],
   "source": []
  }
 ],
 "metadata": {
  "kernelspec": {
   "display_name": "Python 3",
   "language": "python",
   "name": "python3"
  },
  "language_info": {
   "codemirror_mode": {
    "name": "ipython",
    "version": 3
   },
   "file_extension": ".py",
   "mimetype": "text/x-python",
   "name": "python",
   "nbconvert_exporter": "python",
   "pygments_lexer": "ipython3",
   "version": "3.8.5"
  }
 },
 "nbformat": 4,
 "nbformat_minor": 4
}
